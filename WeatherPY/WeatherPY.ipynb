{
 "cells": [
  {
   "cell_type": "markdown",
   "metadata": {},
   "source": [
    "# WeatherPy\n",
    "----\n",
    "\n",
    "#### Note\n",
    "* Instructions have been included for each segment. You do not have to follow them exactly, but they are included to help you think through the steps."
   ]
  },
  {
   "cell_type": "code",
   "execution_count": 28,
   "metadata": {
    "scrolled": true
   },
   "outputs": [],
   "source": [
    "# Dependencies and Setup\n",
    "import matplotlib.pyplot as plt\n",
    "import pandas as pd\n",
    "import numpy as np\n",
    "import requests\n",
    "import time\n",
    "from scipy.stats import linregress\n",
    "from pprint import pprint\n",
    "\n",
    "# Import API key\n",
    "from api_keys import weather_api_key\n",
    "\n",
    "# Incorporated citipy to determine city based on latitude and longitude\n",
    "from citipy import citipy\n",
    "\n",
    "# Output File (CSV)\n",
    "output_data_file = \"output_data/cities.csv\"\n",
    "\n",
    "# Range of latitudes and longitudes\n",
    "lat_range = (-90, 90)\n",
    "lng_range = (-180, 180)"
   ]
  },
  {
   "cell_type": "markdown",
   "metadata": {},
   "source": [
    "## Generate Cities List"
   ]
  },
  {
   "cell_type": "code",
   "execution_count": 31,
   "metadata": {},
   "outputs": [],
   "source": [
    "# List for holding lat_lngs and cities\n",
    "lat_lngs = []\n",
    "cities = []\n",
    "\n",
    "# Create a set of random lat and lng combinations\n",
    "lats = np.random.uniform(lat_range[0], lat_range[1], size=1500)\n",
    "lngs = np.random.uniform(lng_range[0], lng_range[1], size=1500)\n",
    "lat_lngs = zip(lats, lngs)\n",
    "\n",
    "# Identify nearest city for each lat, lng combination\n",
    "for lat_lng in lat_lngs:\n",
    "    city = citipy.nearest_city(lat_lng[0], lat_lng[1]).city_name\n",
    "    \n",
    "    # If the city is unique, then add it to a our cities list\n",
    "    if city not in cities:\n",
    "        cities.append(city)\n",
    "\n",
    "# Print the city count to confirm sufficient count\n",
    "num_cities = len(cities)"
   ]
  },
  {
   "cell_type": "markdown",
   "metadata": {},
   "source": [
    "### Perform API Calls\n",
    "* Perform a weather check on each city using a series of successive API calls.\n",
    "* Include a print log of each city as it'sbeing processed (with the city number and city name).\n"
   ]
  },
  {
   "cell_type": "code",
   "execution_count": 36,
   "metadata": {},
   "outputs": [
    {
     "name": "stdout",
     "output_type": "stream",
     "text": [
      "Processing Record: 1 of 606: busselton\n"
     ]
    },
    {
     "ename": "NameError",
     "evalue": "name 'response' is not defined",
     "output_type": "error",
     "traceback": [
      "\u001b[1;31m---------------------------------------------------------------------------\u001b[0m",
      "\u001b[1;31mNameError\u001b[0m                                 Traceback (most recent call last)",
      "\u001b[1;32m<ipython-input-36-169b0c7cfa69>\u001b[0m in \u001b[0;36m<module>\u001b[1;34m\u001b[0m\n\u001b[0;32m     25\u001b[0m     \u001b[1;31m# Save cities_response to list\u001b[0m\u001b[1;33m\u001b[0m\u001b[1;33m\u001b[0m\u001b[1;33m\u001b[0m\u001b[0m\n\u001b[0;32m     26\u001b[0m     \u001b[0mresponse_json\u001b[0m\u001b[1;33m.\u001b[0m\u001b[0mappend\u001b[0m\u001b[1;33m(\u001b[0m\u001b[0mcities_response\u001b[0m\u001b[1;33m)\u001b[0m\u001b[1;33m\u001b[0m\u001b[1;33m\u001b[0m\u001b[0m\n\u001b[1;32m---> 27\u001b[1;33m     \u001b[0mCity\u001b[0m\u001b[1;33m.\u001b[0m\u001b[0mappend\u001b[0m\u001b[1;33m(\u001b[0m\u001b[0mresponse\u001b[0m\u001b[1;33m[\u001b[0m\u001b[1;34m'coord'\u001b[0m\u001b[1;33m]\u001b[0m\u001b[1;33m[\u001b[0m\u001b[1;34m'lat'\u001b[0m\u001b[1;33m]\u001b[0m\u001b[1;33m)\u001b[0m\u001b[1;33m\u001b[0m\u001b[1;33m\u001b[0m\u001b[0m\n\u001b[0m\u001b[0;32m     28\u001b[0m     \u001b[0mCity\u001b[0m\u001b[1;33m.\u001b[0m\u001b[0mappend\u001b[0m\u001b[1;33m(\u001b[0m\u001b[0mresponse\u001b[0m\u001b[1;33m[\u001b[0m\u001b[1;34m'coord'\u001b[0m\u001b[1;33m]\u001b[0m\u001b[1;33m[\u001b[0m\u001b[1;34m'lat'\u001b[0m\u001b[1;33m]\u001b[0m\u001b[1;33m)\u001b[0m\u001b[1;33m\u001b[0m\u001b[1;33m\u001b[0m\u001b[0m\n\u001b[0;32m     29\u001b[0m     \u001b[0mCity\u001b[0m\u001b[1;33m.\u001b[0m\u001b[0mappend\u001b[0m\u001b[1;33m(\u001b[0m\u001b[0mresponse\u001b[0m\u001b[1;33m[\u001b[0m\u001b[1;34m'coord'\u001b[0m\u001b[1;33m]\u001b[0m\u001b[1;33m[\u001b[0m\u001b[1;34m'lat'\u001b[0m\u001b[1;33m]\u001b[0m\u001b[1;33m)\u001b[0m\u001b[1;33m\u001b[0m\u001b[1;33m\u001b[0m\u001b[0m\n",
      "\u001b[1;31mNameError\u001b[0m: name 'response' is not defined"
     ]
    }
   ],
   "source": [
    "# Create an empty list to store the responses\n",
    "response_json = []\n",
    "City = []          \n",
    "Lat = []           \n",
    "Lng = []          \n",
    "Max_Temp = []      \n",
    "Humidity = []      \n",
    "Cloudiness = []   \n",
    "Wind_Speed = []   \n",
    "Country = []      \n",
    "Date = []\n",
    "\n",
    "\n",
    "\n",
    "\n",
    "url = \"https://api.openweathermap.org/data/2.5/weather?q=\"\n",
    "\n",
    "# Make a request for each of the city\n",
    "for x in range(len(cities)):\n",
    "    print(f\"Processing Record: {x + 1} of {num_cities}: {cities[x]}\")\n",
    "\n",
    "    # Get one of the cities\n",
    "    cities_response = requests.get(url + str(cities[x]) + \"&appid=\" + weather_api_key).json()\n",
    "\n",
    "    # Save cities_response to list\n",
    "    response_json.append(cities_response)\n",
    "    \n",
    "    \n",
    "    \n",
    "    City.append(response['name'])\n",
    "    Lat.append(response['coord']['lat'])\n",
    "    Lng.append(response['coord']['lng'])\n",
    "    Max_Temp.append(response['main']['temp_max'])\n",
    "    Humidity.append(response['main']['humidity'])\n",
    "    Cloudiness.append(response['clouds']['all'])\n",
    "    Wind_Speed.append(response['wind']['speed'])\n",
    "    Country.append(response['sys']['country'])\n",
    "    Date.append(response['dt'])\n",
    "        "
   ]
  },
  {
   "cell_type": "markdown",
   "metadata": {},
   "source": [
    "### Convert Raw Data to DataFrame\n",
    "* Export the city data into a .csv.\n",
    "* Display the DataFrame"
   ]
  },
  {
   "cell_type": "code",
   "execution_count": 34,
   "metadata": {},
   "outputs": [
    {
     "name": "stdout",
     "output_type": "stream",
     "text": [
      "{'base': 'stations',\n",
      " 'clouds': {'all': 100},\n",
      " 'cod': 200,\n",
      " 'coord': {'lat': -33.65, 'lon': 115.33},\n",
      " 'dt': 1587754559,\n",
      " 'id': 2075265,\n",
      " 'main': {'feels_like': 284.39,\n",
      "          'humidity': 77,\n",
      "          'pressure': 1010,\n",
      "          'temp': 288.84,\n",
      "          'temp_max': 289.82,\n",
      "          'temp_min': 288.15},\n",
      " 'name': 'Busselton',\n",
      " 'rain': {'3h': 0.86},\n",
      " 'sys': {'country': 'AU',\n",
      "         'id': 2011706,\n",
      "         'sunrise': 1587768502,\n",
      "         'sunset': 1587807875,\n",
      "         'type': 3},\n",
      " 'timezone': 28800,\n",
      " 'weather': [{'description': 'light rain',\n",
      "              'icon': '10n',\n",
      "              'id': 500,\n",
      "              'main': 'Rain'}],\n",
      " 'wind': {'deg': 263, 'speed': 7.1}}\n"
     ]
    }
   ],
   "source": [
    "pprint(response_json[0])\n"
   ]
  },
  {
   "cell_type": "code",
   "execution_count": 35,
   "metadata": {},
   "outputs": [
    {
     "data": {
      "text/html": [
       "<div>\n",
       "<style scoped>\n",
       "    .dataframe tbody tr th:only-of-type {\n",
       "        vertical-align: middle;\n",
       "    }\n",
       "\n",
       "    .dataframe tbody tr th {\n",
       "        vertical-align: top;\n",
       "    }\n",
       "\n",
       "    .dataframe thead th {\n",
       "        text-align: right;\n",
       "    }\n",
       "</style>\n",
       "<table border=\"1\" class=\"dataframe\">\n",
       "  <thead>\n",
       "    <tr style=\"text-align: right;\">\n",
       "      <th></th>\n",
       "      <th>coord</th>\n",
       "      <th>weather</th>\n",
       "      <th>base</th>\n",
       "      <th>main</th>\n",
       "      <th>wind</th>\n",
       "      <th>rain</th>\n",
       "      <th>clouds</th>\n",
       "      <th>dt</th>\n",
       "      <th>sys</th>\n",
       "      <th>timezone</th>\n",
       "      <th>id</th>\n",
       "      <th>name</th>\n",
       "      <th>cod</th>\n",
       "      <th>snow</th>\n",
       "      <th>visibility</th>\n",
       "      <th>message</th>\n",
       "    </tr>\n",
       "  </thead>\n",
       "  <tbody>\n",
       "    <tr>\n",
       "      <th>0</th>\n",
       "      <td>{'lon': 115.33, 'lat': -33.65}</td>\n",
       "      <td>[{'id': 500, 'main': 'Rain', 'description': 'l...</td>\n",
       "      <td>stations</td>\n",
       "      <td>{'temp': 288.84, 'feels_like': 284.39, 'temp_m...</td>\n",
       "      <td>{'speed': 7.1, 'deg': 263}</td>\n",
       "      <td>{'3h': 0.86}</td>\n",
       "      <td>{'all': 100}</td>\n",
       "      <td>1.587755e+09</td>\n",
       "      <td>{'type': 3, 'id': 2011706, 'country': 'AU', 's...</td>\n",
       "      <td>28800.0</td>\n",
       "      <td>2075265.0</td>\n",
       "      <td>Busselton</td>\n",
       "      <td>200</td>\n",
       "      <td>NaN</td>\n",
       "      <td>NaN</td>\n",
       "      <td>NaN</td>\n",
       "    </tr>\n",
       "    <tr>\n",
       "      <th>1</th>\n",
       "      <td>{'lon': 135.7, 'lat': 51.67}</td>\n",
       "      <td>[{'id': 600, 'main': 'Snow', 'description': 'l...</td>\n",
       "      <td>stations</td>\n",
       "      <td>{'temp': 270.7, 'feels_like': 267.23, 'temp_mi...</td>\n",
       "      <td>{'speed': 1.55, 'deg': 314}</td>\n",
       "      <td>NaN</td>\n",
       "      <td>{'all': 100}</td>\n",
       "      <td>1.587755e+09</td>\n",
       "      <td>{'country': 'RU', 'sunrise': 1587757205, 'suns...</td>\n",
       "      <td>36000.0</td>\n",
       "      <td>2026786.0</td>\n",
       "      <td>Berezovyy</td>\n",
       "      <td>200</td>\n",
       "      <td>{'3h': 0.85}</td>\n",
       "      <td>NaN</td>\n",
       "      <td>NaN</td>\n",
       "    </tr>\n",
       "    <tr>\n",
       "      <th>2</th>\n",
       "      <td>{'lon': 178.42, 'lat': 69.38}</td>\n",
       "      <td>[{'id': 800, 'main': 'Clear', 'description': '...</td>\n",
       "      <td>stations</td>\n",
       "      <td>{'temp': 263.72, 'feels_like': 258.84, 'temp_m...</td>\n",
       "      <td>{'speed': 2.56, 'deg': 136}</td>\n",
       "      <td>NaN</td>\n",
       "      <td>{'all': 0}</td>\n",
       "      <td>1.587755e+09</td>\n",
       "      <td>{'country': 'RU', 'sunrise': 1587741452, 'suns...</td>\n",
       "      <td>43200.0</td>\n",
       "      <td>2123814.0</td>\n",
       "      <td>Leningradskiy</td>\n",
       "      <td>200</td>\n",
       "      <td>NaN</td>\n",
       "      <td>NaN</td>\n",
       "      <td>NaN</td>\n",
       "    </tr>\n",
       "    <tr>\n",
       "      <th>3</th>\n",
       "      <td>{'lon': -68.3, 'lat': -54.8}</td>\n",
       "      <td>[{'id': 600, 'main': 'Snow', 'description': 'l...</td>\n",
       "      <td>stations</td>\n",
       "      <td>{'temp': 275.15, 'feels_like': 266.1, 'temp_mi...</td>\n",
       "      <td>{'speed': 10.3, 'deg': 180}</td>\n",
       "      <td>NaN</td>\n",
       "      <td>{'all': 75}</td>\n",
       "      <td>1.587755e+09</td>\n",
       "      <td>{'type': 1, 'id': 8303, 'country': 'AR', 'sunr...</td>\n",
       "      <td>-10800.0</td>\n",
       "      <td>3833367.0</td>\n",
       "      <td>Ushuaia</td>\n",
       "      <td>200</td>\n",
       "      <td>NaN</td>\n",
       "      <td>10000.0</td>\n",
       "      <td>NaN</td>\n",
       "    </tr>\n",
       "    <tr>\n",
       "      <th>4</th>\n",
       "      <td>NaN</td>\n",
       "      <td>NaN</td>\n",
       "      <td>NaN</td>\n",
       "      <td>NaN</td>\n",
       "      <td>NaN</td>\n",
       "      <td>NaN</td>\n",
       "      <td>NaN</td>\n",
       "      <td>NaN</td>\n",
       "      <td>NaN</td>\n",
       "      <td>NaN</td>\n",
       "      <td>NaN</td>\n",
       "      <td>NaN</td>\n",
       "      <td>404</td>\n",
       "      <td>NaN</td>\n",
       "      <td>NaN</td>\n",
       "      <td>city not found</td>\n",
       "    </tr>\n",
       "    <tr>\n",
       "      <th>5</th>\n",
       "      <td>{'lon': -54.33, 'lat': -34.48}</td>\n",
       "      <td>[{'id': 804, 'main': 'Clouds', 'description': ...</td>\n",
       "      <td>stations</td>\n",
       "      <td>{'temp': 298.61, 'feels_like': 297.45, 'temp_m...</td>\n",
       "      <td>{'speed': 4.51, 'deg': 349}</td>\n",
       "      <td>NaN</td>\n",
       "      <td>{'all': 99}</td>\n",
       "      <td>1.587755e+09</td>\n",
       "      <td>{'country': 'UY', 'sunrise': 1587722862, 'suns...</td>\n",
       "      <td>-10800.0</td>\n",
       "      <td>3440777.0</td>\n",
       "      <td>Rocha</td>\n",
       "      <td>200</td>\n",
       "      <td>NaN</td>\n",
       "      <td>NaN</td>\n",
       "      <td>NaN</td>\n",
       "    </tr>\n",
       "    <tr>\n",
       "      <th>6</th>\n",
       "      <td>{'lon': 18.42, 'lat': -33.93}</td>\n",
       "      <td>[{'id': 803, 'main': 'Clouds', 'description': ...</td>\n",
       "      <td>stations</td>\n",
       "      <td>{'temp': 291.99, 'feels_like': 287.47, 'temp_m...</td>\n",
       "      <td>{'speed': 7.7, 'deg': 170}</td>\n",
       "      <td>NaN</td>\n",
       "      <td>{'all': 55}</td>\n",
       "      <td>1.587755e+09</td>\n",
       "      <td>{'type': 1, 'id': 1899, 'country': 'ZA', 'sunr...</td>\n",
       "      <td>7200.0</td>\n",
       "      <td>3369157.0</td>\n",
       "      <td>Cape Town</td>\n",
       "      <td>200</td>\n",
       "      <td>NaN</td>\n",
       "      <td>10000.0</td>\n",
       "      <td>NaN</td>\n",
       "    </tr>\n",
       "    <tr>\n",
       "      <th>7</th>\n",
       "      <td>{'lon': -50.01, 'lat': -24.79}</td>\n",
       "      <td>[{'id': 800, 'main': 'Clear', 'description': '...</td>\n",
       "      <td>stations</td>\n",
       "      <td>{'temp': 297.64, 'feels_like': 295.57, 'temp_m...</td>\n",
       "      <td>{'speed': 2.44, 'deg': 11}</td>\n",
       "      <td>NaN</td>\n",
       "      <td>{'all': 3}</td>\n",
       "      <td>1.587755e+09</td>\n",
       "      <td>{'country': 'BR', 'sunrise': 1587721125, 'suns...</td>\n",
       "      <td>-10800.0</td>\n",
       "      <td>3466704.0</td>\n",
       "      <td>Castro</td>\n",
       "      <td>200</td>\n",
       "      <td>NaN</td>\n",
       "      <td>NaN</td>\n",
       "      <td>NaN</td>\n",
       "    </tr>\n",
       "    <tr>\n",
       "      <th>8</th>\n",
       "      <td>{'lon': 147.33, 'lat': -42.88}</td>\n",
       "      <td>[{'id': 803, 'main': 'Clouds', 'description': ...</td>\n",
       "      <td>stations</td>\n",
       "      <td>{'temp': 286.15, 'feels_like': 284.08, 'temp_m...</td>\n",
       "      <td>{'speed': 2.6, 'deg': 360}</td>\n",
       "      <td>NaN</td>\n",
       "      <td>{'all': 75}</td>\n",
       "      <td>1.587754e+09</td>\n",
       "      <td>{'type': 1, 'id': 9545, 'country': 'AU', 'sunr...</td>\n",
       "      <td>36000.0</td>\n",
       "      <td>2163355.0</td>\n",
       "      <td>Hobart</td>\n",
       "      <td>200</td>\n",
       "      <td>NaN</td>\n",
       "      <td>10000.0</td>\n",
       "      <td>NaN</td>\n",
       "    </tr>\n",
       "    <tr>\n",
       "      <th>9</th>\n",
       "      <td>{'lon': -134.97, 'lat': -23.12}</td>\n",
       "      <td>[{'id': 804, 'main': 'Clouds', 'description': ...</td>\n",
       "      <td>stations</td>\n",
       "      <td>{'temp': 297.9, 'feels_like': 297.6, 'temp_min...</td>\n",
       "      <td>{'speed': 4.98, 'deg': 103}</td>\n",
       "      <td>NaN</td>\n",
       "      <td>{'all': 100}</td>\n",
       "      <td>1.587755e+09</td>\n",
       "      <td>{'country': 'PF', 'sunrise': 1587741412, 'suns...</td>\n",
       "      <td>-32400.0</td>\n",
       "      <td>4030556.0</td>\n",
       "      <td>Rikitea</td>\n",
       "      <td>200</td>\n",
       "      <td>NaN</td>\n",
       "      <td>NaN</td>\n",
       "      <td>NaN</td>\n",
       "    </tr>\n",
       "  </tbody>\n",
       "</table>\n",
       "</div>"
      ],
      "text/plain": [
       "                             coord  \\\n",
       "0   {'lon': 115.33, 'lat': -33.65}   \n",
       "1     {'lon': 135.7, 'lat': 51.67}   \n",
       "2    {'lon': 178.42, 'lat': 69.38}   \n",
       "3     {'lon': -68.3, 'lat': -54.8}   \n",
       "4                              NaN   \n",
       "5   {'lon': -54.33, 'lat': -34.48}   \n",
       "6    {'lon': 18.42, 'lat': -33.93}   \n",
       "7   {'lon': -50.01, 'lat': -24.79}   \n",
       "8   {'lon': 147.33, 'lat': -42.88}   \n",
       "9  {'lon': -134.97, 'lat': -23.12}   \n",
       "\n",
       "                                             weather      base  \\\n",
       "0  [{'id': 500, 'main': 'Rain', 'description': 'l...  stations   \n",
       "1  [{'id': 600, 'main': 'Snow', 'description': 'l...  stations   \n",
       "2  [{'id': 800, 'main': 'Clear', 'description': '...  stations   \n",
       "3  [{'id': 600, 'main': 'Snow', 'description': 'l...  stations   \n",
       "4                                                NaN       NaN   \n",
       "5  [{'id': 804, 'main': 'Clouds', 'description': ...  stations   \n",
       "6  [{'id': 803, 'main': 'Clouds', 'description': ...  stations   \n",
       "7  [{'id': 800, 'main': 'Clear', 'description': '...  stations   \n",
       "8  [{'id': 803, 'main': 'Clouds', 'description': ...  stations   \n",
       "9  [{'id': 804, 'main': 'Clouds', 'description': ...  stations   \n",
       "\n",
       "                                                main  \\\n",
       "0  {'temp': 288.84, 'feels_like': 284.39, 'temp_m...   \n",
       "1  {'temp': 270.7, 'feels_like': 267.23, 'temp_mi...   \n",
       "2  {'temp': 263.72, 'feels_like': 258.84, 'temp_m...   \n",
       "3  {'temp': 275.15, 'feels_like': 266.1, 'temp_mi...   \n",
       "4                                                NaN   \n",
       "5  {'temp': 298.61, 'feels_like': 297.45, 'temp_m...   \n",
       "6  {'temp': 291.99, 'feels_like': 287.47, 'temp_m...   \n",
       "7  {'temp': 297.64, 'feels_like': 295.57, 'temp_m...   \n",
       "8  {'temp': 286.15, 'feels_like': 284.08, 'temp_m...   \n",
       "9  {'temp': 297.9, 'feels_like': 297.6, 'temp_min...   \n",
       "\n",
       "                          wind          rain        clouds            dt  \\\n",
       "0   {'speed': 7.1, 'deg': 263}  {'3h': 0.86}  {'all': 100}  1.587755e+09   \n",
       "1  {'speed': 1.55, 'deg': 314}           NaN  {'all': 100}  1.587755e+09   \n",
       "2  {'speed': 2.56, 'deg': 136}           NaN    {'all': 0}  1.587755e+09   \n",
       "3  {'speed': 10.3, 'deg': 180}           NaN   {'all': 75}  1.587755e+09   \n",
       "4                          NaN           NaN           NaN           NaN   \n",
       "5  {'speed': 4.51, 'deg': 349}           NaN   {'all': 99}  1.587755e+09   \n",
       "6   {'speed': 7.7, 'deg': 170}           NaN   {'all': 55}  1.587755e+09   \n",
       "7   {'speed': 2.44, 'deg': 11}           NaN    {'all': 3}  1.587755e+09   \n",
       "8   {'speed': 2.6, 'deg': 360}           NaN   {'all': 75}  1.587754e+09   \n",
       "9  {'speed': 4.98, 'deg': 103}           NaN  {'all': 100}  1.587755e+09   \n",
       "\n",
       "                                                 sys  timezone         id  \\\n",
       "0  {'type': 3, 'id': 2011706, 'country': 'AU', 's...   28800.0  2075265.0   \n",
       "1  {'country': 'RU', 'sunrise': 1587757205, 'suns...   36000.0  2026786.0   \n",
       "2  {'country': 'RU', 'sunrise': 1587741452, 'suns...   43200.0  2123814.0   \n",
       "3  {'type': 1, 'id': 8303, 'country': 'AR', 'sunr...  -10800.0  3833367.0   \n",
       "4                                                NaN       NaN        NaN   \n",
       "5  {'country': 'UY', 'sunrise': 1587722862, 'suns...  -10800.0  3440777.0   \n",
       "6  {'type': 1, 'id': 1899, 'country': 'ZA', 'sunr...    7200.0  3369157.0   \n",
       "7  {'country': 'BR', 'sunrise': 1587721125, 'suns...  -10800.0  3466704.0   \n",
       "8  {'type': 1, 'id': 9545, 'country': 'AU', 'sunr...   36000.0  2163355.0   \n",
       "9  {'country': 'PF', 'sunrise': 1587741412, 'suns...  -32400.0  4030556.0   \n",
       "\n",
       "            name  cod          snow  visibility         message  \n",
       "0      Busselton  200           NaN         NaN             NaN  \n",
       "1      Berezovyy  200  {'3h': 0.85}         NaN             NaN  \n",
       "2  Leningradskiy  200           NaN         NaN             NaN  \n",
       "3        Ushuaia  200           NaN     10000.0             NaN  \n",
       "4            NaN  404           NaN         NaN  city not found  \n",
       "5          Rocha  200           NaN         NaN             NaN  \n",
       "6      Cape Town  200           NaN     10000.0             NaN  \n",
       "7         Castro  200           NaN         NaN             NaN  \n",
       "8         Hobart  200           NaN     10000.0             NaN  \n",
       "9        Rikitea  200           NaN         NaN             NaN  "
      ]
     },
     "execution_count": 35,
     "metadata": {},
     "output_type": "execute_result"
    }
   ],
   "source": [
    "#create dictonary of list City Data\n",
    "\n",
    "city_data = {[\"City\" : City,\n",
    "              \"Lat\" : Lat,\n",
    "              \"Lng\" : lng,\n",
    "              \"Max Temp\" : Max_Temp,\n",
    "              \"Humidity\" : Humidity,\n",
    "              \"Cloudiness\" : Cloudiness,\n",
    "              \"Wind Speed\" : Wind_Speed,\n",
    "              \"Country\" : Country,\n",
    "              \"Date\" : Date]}\n",
    "\n",
    "#city_df = pd.DataFrame(city_data)\n",
    "cities_df.head(10)"
   ]
  },
  {
   "cell_type": "markdown",
   "metadata": {},
   "source": [
    "## Inspect the data and remove the cities where the humidity > 100%.\n",
    "----\n",
    "Skip this step if there are no cities that have humidity > 100%. "
   ]
  },
  {
   "cell_type": "code",
   "execution_count": null,
   "metadata": {},
   "outputs": [],
   "source": []
  },
  {
   "cell_type": "code",
   "execution_count": 5,
   "metadata": {},
   "outputs": [],
   "source": [
    "#  Get the indices of cities that have humidity over 100%.\n"
   ]
  },
  {
   "cell_type": "code",
   "execution_count": 6,
   "metadata": {},
   "outputs": [],
   "source": [
    "# Make a new DataFrame equal to the city data to drop all humidity outliers by index.\n",
    "# Passing \"inplace=False\" will make a copy of the city_data DataFrame, which we call \"clean_city_data\".\n"
   ]
  },
  {
   "cell_type": "code",
   "execution_count": 7,
   "metadata": {},
   "outputs": [],
   "source": [
    "# Extract relevant fields from the data frame\n",
    "\n",
    "\n",
    "# Export the City_Data into a csv\n"
   ]
  },
  {
   "cell_type": "markdown",
   "metadata": {},
   "source": [
    "## Plotting the Data\n",
    "* Use proper labeling of the plots using plot titles (including date of analysis) and axes labels.\n",
    "* Save the plotted figures as .pngs."
   ]
  },
  {
   "cell_type": "markdown",
   "metadata": {},
   "source": [
    "## Latitude vs. Temperature Plot"
   ]
  },
  {
   "cell_type": "code",
   "execution_count": null,
   "metadata": {
    "scrolled": true
   },
   "outputs": [],
   "source": []
  },
  {
   "cell_type": "markdown",
   "metadata": {},
   "source": [
    "## Latitude vs. Humidity Plot"
   ]
  },
  {
   "cell_type": "code",
   "execution_count": null,
   "metadata": {},
   "outputs": [],
   "source": []
  },
  {
   "cell_type": "markdown",
   "metadata": {},
   "source": [
    "## Latitude vs. Cloudiness Plot"
   ]
  },
  {
   "cell_type": "code",
   "execution_count": null,
   "metadata": {},
   "outputs": [],
   "source": []
  },
  {
   "cell_type": "markdown",
   "metadata": {},
   "source": [
    "## Latitude vs. Wind Speed Plot"
   ]
  },
  {
   "cell_type": "code",
   "execution_count": null,
   "metadata": {},
   "outputs": [],
   "source": []
  },
  {
   "cell_type": "markdown",
   "metadata": {},
   "source": [
    "## Linear Regression"
   ]
  },
  {
   "cell_type": "code",
   "execution_count": 8,
   "metadata": {},
   "outputs": [],
   "source": [
    "# OPTIONAL: Create a function to create Linear Regression plots"
   ]
  },
  {
   "cell_type": "code",
   "execution_count": 9,
   "metadata": {},
   "outputs": [],
   "source": [
    "# Create Northern and Southern Hemisphere DataFrames"
   ]
  },
  {
   "cell_type": "markdown",
   "metadata": {},
   "source": [
    "####  Northern Hemisphere - Max Temp vs. Latitude Linear Regression"
   ]
  },
  {
   "cell_type": "code",
   "execution_count": null,
   "metadata": {},
   "outputs": [],
   "source": []
  },
  {
   "cell_type": "markdown",
   "metadata": {},
   "source": [
    "####  Southern Hemisphere - Max Temp vs. Latitude Linear Regression"
   ]
  },
  {
   "cell_type": "code",
   "execution_count": null,
   "metadata": {},
   "outputs": [],
   "source": []
  },
  {
   "cell_type": "markdown",
   "metadata": {},
   "source": [
    "####  Northern Hemisphere - Humidity (%) vs. Latitude Linear Regression"
   ]
  },
  {
   "cell_type": "code",
   "execution_count": null,
   "metadata": {},
   "outputs": [],
   "source": []
  },
  {
   "cell_type": "markdown",
   "metadata": {},
   "source": [
    "####  Southern Hemisphere - Humidity (%) vs. Latitude Linear Regression"
   ]
  },
  {
   "cell_type": "code",
   "execution_count": null,
   "metadata": {},
   "outputs": [],
   "source": []
  },
  {
   "cell_type": "markdown",
   "metadata": {},
   "source": [
    "####  Northern Hemisphere - Cloudiness (%) vs. Latitude Linear Regression"
   ]
  },
  {
   "cell_type": "code",
   "execution_count": null,
   "metadata": {},
   "outputs": [],
   "source": []
  },
  {
   "cell_type": "markdown",
   "metadata": {},
   "source": [
    "####  Southern Hemisphere - Cloudiness (%) vs. Latitude Linear Regression"
   ]
  },
  {
   "cell_type": "code",
   "execution_count": null,
   "metadata": {},
   "outputs": [],
   "source": []
  },
  {
   "cell_type": "markdown",
   "metadata": {},
   "source": [
    "####  Northern Hemisphere - Wind Speed (mph) vs. Latitude Linear Regression"
   ]
  },
  {
   "cell_type": "code",
   "execution_count": null,
   "metadata": {},
   "outputs": [],
   "source": []
  },
  {
   "cell_type": "markdown",
   "metadata": {},
   "source": [
    "####  Southern Hemisphere - Wind Speed (mph) vs. Latitude Linear Regression"
   ]
  },
  {
   "cell_type": "code",
   "execution_count": null,
   "metadata": {},
   "outputs": [],
   "source": []
  },
  {
   "cell_type": "code",
   "execution_count": null,
   "metadata": {},
   "outputs": [],
   "source": []
  }
 ],
 "metadata": {
  "anaconda-cloud": {},
  "kernel_info": {
   "name": "python3"
  },
  "kernelspec": {
   "display_name": "Python 3",
   "language": "python",
   "name": "python3"
  },
  "language_info": {
   "codemirror_mode": {
    "name": "ipython",
    "version": 3
   },
   "file_extension": ".py",
   "mimetype": "text/x-python",
   "name": "python",
   "nbconvert_exporter": "python",
   "pygments_lexer": "ipython3",
   "version": "3.8.1"
  },
  "latex_envs": {
   "LaTeX_envs_menu_present": true,
   "autoclose": false,
   "autocomplete": true,
   "bibliofile": "biblio.bib",
   "cite_by": "apalike",
   "current_citInitial": 1,
   "eqLabelWithNumbers": true,
   "eqNumInitial": 1,
   "hotkeys": {
    "equation": "Ctrl-E",
    "itemize": "Ctrl-I"
   },
   "labels_anchors": false,
   "latex_user_defs": false,
   "report_style_numbering": false,
   "user_envs_cfg": false
  },
  "nteract": {
   "version": "0.12.3"
  }
 },
 "nbformat": 4,
 "nbformat_minor": 2
}
